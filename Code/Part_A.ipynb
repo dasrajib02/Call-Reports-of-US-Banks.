{
 "cells": [
  {
   "cell_type": "markdown",
   "id": "6ff99f08-545d-4c2e-b399-3c4822c0106e",
   "metadata": {},
   "source": [
    "In part A we are going to unzip all the downloaded files and rename the folders in the format of: YYYY-MM-DD. SO the code read the files downloaded_call_report_dir and the output will be stored into the input_dir."
   ]
  },
  {
   "cell_type": "code",
   "execution_count": 5,
   "id": "28caaeb4-3082-4aca-a9db-a418340b3200",
   "metadata": {},
   "outputs": [
    {
     "name": "stdout",
     "output_type": "stream",
     "text": [
      "All zip files extracted into dated folders with only .txt files!\n"
     ]
    }
   ],
   "source": [
    "import os\n",
    "import zipfile\n",
    "from datetime import datetime\n",
    "\n",
    "# Paths\n",
    "downloaded_call_report_dir = r\"C:\\Users\\32011\\Dropbox\\Call reports data\\Raw Data\\Downloaded files\"\n",
    "input_dir = Path(r\"C:\\Users\\32011\\Dropbox\\Call reports data\\Raw Data\\Input files\")\n",
    "\n",
    "# We are making sure that the input directory exists\n",
    "os.makedirs(input_dir, exist_ok=True)\n",
    "\n",
    "# Collect zip files with extracted/converted date\n",
    "zip_files = []\n",
    "for file in os.listdir(downloaded_call_report_dir):\n",
    "    if file.endswith(\".zip\"):\n",
    "        # Extract raw date string (last 8 digits, format MMDDYYYY)\n",
    "        raw_date = ''.join([c for c in file if c.isdigit()][-8:])\n",
    "        try:\n",
    "            clean_date = datetime.strptime(raw_date, \"%m%d%Y\").strftime(\"%Y-%m-%d\")\n",
    "        except ValueError:\n",
    "            print(f\"Skipping {file}, invalid date format\")\n",
    "            continue\n",
    "        zip_files.append((clean_date, os.path.join(downloaded_call_report_dir, file)))\n",
    "\n",
    "# Sort by date\n",
    "zip_files.sort(key=lambda x: x[0])\n",
    "\n",
    "# Process each zip file\n",
    "for clean_date, zip_path in zip_files:\n",
    "    # Create input folder for this date\n",
    "    input_folder = os.path.join(input_dir, clean_date)\n",
    "    os.makedirs(input_folder, exist_ok=True)\n",
    "\n",
    "    # Extract files\n",
    "    with zipfile.ZipFile(zip_path, 'r') as zip_ref:\n",
    "        for member in zip_ref.namelist():\n",
    "            filename = os.path.basename(member)\n",
    "            if filename.endswith(\".txt\"):  # keep only txt files\n",
    "                # Extract directly into the input folder (ignore inner folders)\n",
    "                source = zip_ref.open(member)\n",
    "                target_path = os.path.join(input_folder, filename)\n",
    "                with open(target_path, \"wb\") as target:\n",
    "                    target.write(source.read())\n",
    "\n",
    "print(\"All zip files extracted into dated folders with only .txt files!\")"
   ]
  },
  {
   "cell_type": "code",
   "execution_count": null,
   "id": "f7824df2-9339-488d-9ebd-3cbcf5751491",
   "metadata": {},
   "outputs": [],
   "source": []
  }
 ],
 "metadata": {
  "kernelspec": {
   "display_name": "Python 3 (ipykernel)",
   "language": "python",
   "name": "python3"
  },
  "language_info": {
   "codemirror_mode": {
    "name": "ipython",
    "version": 3
   },
   "file_extension": ".py",
   "mimetype": "text/x-python",
   "name": "python",
   "nbconvert_exporter": "python",
   "pygments_lexer": "ipython3",
   "version": "3.13.5"
  }
 },
 "nbformat": 4,
 "nbformat_minor": 5
}
